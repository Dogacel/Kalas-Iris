{
 "cells": [
  {
   "cell_type": "code",
   "execution_count": null,
   "metadata": {},
   "outputs": [],
   "source": [
    "import os\n",
    "\n",
    "from tqdm import tqdm\n",
    "from torchvision.models import resnet50, resnet18\n",
    "from torch.utils.data import DataLoader\n",
    "from torch.utils.data import Dataset\n",
    "import torch\n",
    "import torch.nn as nn\n",
    "\n",
    "n = 100000\n",
    "\n",
    "class RandomDs(Dataset):\n",
    "    def __init__(self, ):\n",
    "        pass\n",
    "\n",
    "    def __len__(self):\n",
    "        return n\n",
    "\n",
    "    def __getitem__(self, index):\n",
    "        return torch.rand(3, 512, 256)\n",
    "\n",
    "\n",
    "\n",
    "dataset = RandomDs()\n",
    "data_loader = DataLoader(dataset, batch_size=78, shuffle=False, num_workers=0, pin_memory=False)\n",
    "\n",
    "\n",
    "model = resnet50()\n",
    "\n",
    "# os.environ[\"CUDA_VISIBLE_DEVICES\"] = \"0\"\n",
    "device = torch.device('cuda:0')\n",
    "model = nn.DataParallel(model)\n",
    "\n",
    "model.to(device)\n",
    "\n",
    "with torch.no_grad():\n",
    "    for batch in tqdm(data_loader):\n",
    "        batch = batch.to(device)\n",
    "        model(batch)\n"
   ]
  },
  {
   "cell_type": "code",
   "execution_count": 2,
   "metadata": {},
   "outputs": [
    {
     "name": "stdout",
     "output_type": "stream",
     "text": [
      "|===========================================================================|\n",
      "|                  PyTorch CUDA memory summary, device ID 0                 |\n",
      "|---------------------------------------------------------------------------|\n",
      "|            CUDA OOMs: 0            |        cudaMalloc retries: 0         |\n",
      "|===========================================================================|\n",
      "|        Metric         | Cur Usage  | Peak Usage | Tot Alloc  | Tot Freed  |\n",
      "|---------------------------------------------------------------------------|\n",
      "| Allocated memory      |  198377 KB |    1857 MB |    1930 GB |    1929 GB |\n",
      "|---------------------------------------------------------------------------|\n",
      "| Active memory         |  198377 KB |    1857 MB |    1930 GB |    1929 GB |\n",
      "|---------------------------------------------------------------------------|\n",
      "| GPU reserved memory   |  219136 KB |    2908 MB |    2908 MB |    2694 MB |\n",
      "|---------------------------------------------------------------------------|\n",
      "| Non-releasable memory |   20758 KB |  676118 KB |    1411 GB |    1411 GB |\n",
      "|---------------------------------------------------------------------------|\n",
      "| Allocations           |     321    |     328    |   35204    |   34883    |\n",
      "|---------------------------------------------------------------------------|\n",
      "| Active allocs         |     321    |     328    |   35204    |   34883    |\n",
      "|---------------------------------------------------------------------------|\n",
      "| GPU reserved segments |      15    |      21    |      21    |       6    |\n",
      "|---------------------------------------------------------------------------|\n",
      "| Non-releasable allocs |       7    |      13    |   19235    |   19228    |\n",
      "|===========================================================================|\n",
      "\n"
     ]
    }
   ],
   "source": [
    "import gc, torch\n",
    "torch.cuda.empty_cache()\n",
    "gc.collect()\n",
    "print(torch.cuda.memory_summary(device=None, abbreviated=True))"
   ]
  },
  {
   "cell_type": "code",
   "execution_count": 3,
   "metadata": {},
   "outputs": [],
   "source": []
  },
  {
   "cell_type": "code",
   "execution_count": 4,
   "metadata": {},
   "outputs": [
    {
     "data": {
      "text/plain": [
       "147"
      ]
     },
     "execution_count": 4,
     "metadata": {},
     "output_type": "execute_result"
    }
   ],
   "source": []
  },
  {
   "cell_type": "code",
   "execution_count": null,
   "metadata": {},
   "outputs": [],
   "source": []
  }
 ],
 "metadata": {
  "kernelspec": {
   "display_name": "Python 3",
   "language": "python",
   "name": "python3"
  },
  "language_info": {
   "codemirror_mode": {
    "name": "ipython",
    "version": 3
   },
   "file_extension": ".py",
   "mimetype": "text/x-python",
   "name": "python",
   "nbconvert_exporter": "python",
   "pygments_lexer": "ipython3",
   "version": "3.8.2"
  }
 },
 "nbformat": 4,
 "nbformat_minor": 4
}
