{
 "metadata": {
  "language_info": {
   "codemirror_mode": {
    "name": "ipython",
    "version": 3
   },
   "file_extension": ".py",
   "mimetype": "text/x-python",
   "name": "python",
   "nbconvert_exporter": "python",
   "pygments_lexer": "ipython3",
   "version": "3.8.3-final"
  },
  "orig_nbformat": 2,
  "kernelspec": {
   "name": "python3",
   "display_name": "Python 3"
  }
 },
 "nbformat": 4,
 "nbformat_minor": 2,
 "cells": [
  {
   "cell_type": "code",
   "execution_count": 76,
   "metadata": {},
   "outputs": [],
   "source": [
    "import h5py\n",
    "import numpy as np\n",
    "import pandas as pd\n",
    "from tqdm.notebook import tqdm \n",
    "import torch.nn as nn\n",
    "import torch.nn.functional as F\n",
    "import torch.optim as optim\n",
    "import torchvision.models as models\n",
    "import torchvision\n"
   ]
  },
  {
   "cell_type": "code",
   "execution_count": 77,
   "metadata": {},
   "outputs": [],
   "source": [
    "hf = h5py.File('../data/data.h5', 'r')\n",
    "\n",
    "attribute = np.asarray(hf['Anno_fine']['list_attr_cloth.txt'])\n",
    "category = np.asarray(hf['Anno_fine']['list_category_cloth.txt'])\n",
    "\n",
    "hf.close()"
   ]
  },
  {
   "cell_type": "code",
   "execution_count": 78,
   "metadata": {},
   "outputs": [],
   "source": [
    "category_df = pd.DataFrame([x.strip().split() for x in category[1:]], dtype=str)\n",
    "category_df, category_df.columns = category_df[1:] , category_df.iloc[0]\n",
    "\n",
    "attribute_df = pd.DataFrame([x.strip().split() for x in attribute[1:]], dtype=str)\n",
    "attribute_df, attribute_df.columns = attribute_df[1:] , attribute_df.iloc[0]"
   ]
  },
  {
   "cell_type": "code",
   "execution_count": 79,
   "metadata": {},
   "outputs": [],
   "source": [
    "train_hf = h5py.File('../data/train_fine.h5', 'r')\n",
    "test_hf  = h5py.File('../data/test_fine.h5', 'r')"
   ]
  },
  {
   "cell_type": "code",
   "execution_count": 92,
   "metadata": {},
   "outputs": [],
   "source": [
    "class Net(nn.Module):\n",
    "    def __init__(self):\n",
    "        super(Net, self).__init__()\n",
    "        \n",
    "        self.conv1 = nn.Conv2d(1, 24, 5)\n",
    "        self.conv2 = nn.Conv2d(24, 48, 5)\n",
    "        \n",
    "        x = torch.randn((224, 224)).view(-1, 1, 224, 224)\n",
    "        x = self.convs(x)\n",
    "        \n",
    "        self.conv_out = x[0].shape[0]*x[0].shape[1]*x[0].shape[2]\n",
    "        \n",
    "        self.fc1 = nn.Linear(self.conv_out, 256)\n",
    "        self.fc2 = nn.Linear(256, 64)\n",
    "        self.fc3 = nn.Linear(64, len(category))\n",
    "    \n",
    "    def convs(self, x):\n",
    "        x = F.max_pool2d(F.relu(self.conv1(x)), (2, 2))\n",
    "        x = F.max_pool2d(F.relu(self.conv2(x)), (2, 2))\n",
    "        \n",
    "        return x\n",
    "    \n",
    "    def forward(self, x):\n",
    "        x = self.convs(x)\n",
    "        x = x.view(-1, self.conv_out)\n",
    "        \n",
    "        x = F.relu(self.fc1(x))\n",
    "        x = F.relu(self.fc2(x))\n",
    "        x = self.fc3(x)\n",
    "        \n",
    "        return F.softmax(x, dim=1)"
   ]
  },
  {
   "cell_type": "code",
   "execution_count": 93,
   "metadata": {},
   "outputs": [],
   "source": [
    "net = Net()\n",
    "\n",
    "labelt = torch.tensor(np.eye(len(category)), dtype=torch.float)"
   ]
  },
  {
   "cell_type": "code",
   "execution_count": null,
   "metadata": {},
   "outputs": [],
   "source": [
    "def test():\n",
    "    net.eval()\n",
    "    correct = 0\n",
    "    total = 0\n",
    "\n",
    "    with torch.no_grad():\n",
    "        for i in tqdm(range(len(test_hf['img']))):\n",
    "            \n",
    "            img = test_hf['img'][i]\n",
    "            img =  torchvision.transforms.functional.to_tensor(img)\n",
    "            category = test_hf['category'][i][0]\n",
    "\n",
    "            # print(f'{img.shape}, {category}')\n",
    "\n",
    "            output = net(img.view(-1, 1, 224, 224))\n",
    "            for idx, i in enumerate(output):\n",
    "                print(f'{torch.argmax(i)} : {category}')\n",
    "                if torch.argmax(i) == category:\n",
    "                    correct += 1\n",
    "                total += 1\n",
    "\n",
    "    print(\"Accuracy: \", round(correct/total, 5))"
   ]
  },
  {
   "cell_type": "code",
   "execution_count": null,
   "metadata": {},
   "outputs": [],
   "source": [
    "test()"
   ]
  },
  {
   "cell_type": "code",
   "execution_count": null,
   "metadata": {},
   "outputs": [],
   "source": []
  }
 ]
}